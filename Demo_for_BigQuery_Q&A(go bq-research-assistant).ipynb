{
 "cells": [
  {
   "cell_type": "markdown",
   "metadata": {
    "id": "nWKmZBiRSbO7"
   },
   "source": [
    "# **BigQuery Q&A using langchain & LLM (go/bq-research-assistant)**\n"
   ]
  },
  {
   "cell_type": "markdown",
   "metadata": {
    "id": "j9BPkBzhTDzn"
   },
   "source": [
    "Demo: This notebook guides you on use of LLM to answer questions over a BigQuery public dataset.\n",
    "This notebook has also been tested on big datasets(~2 million rows) and works well with low latency.\n",
    "\n",
    "To use it on your own data, change the parameters in the section \"What are the top 10 most common mesh codes for compounds with a PubChem CID of 123456?\"\n",
    "\n",
    "\n",
    "|Author:       |Alex Burdenko (aburdenko@)|\n",
    "|--------------|---------|\n",
    "|Last Updated: |6/17/2023|\n",
    "\n",
    "\n",
    "Example input: What kind of assays are in PubChem?"
   ]
  },
  {
   "cell_type": "markdown",
   "metadata": {
    "id": "aPh6goEQyKsD"
   },
   "source": [
    "#Python libraries setup (Run First, Run Once)\n",
    "Note, we put these at the end so that we can run this cell and then, once the notebook restarts, we can run all cells above without worrying about this step that we only have to do once."
   ]
  },
  {
   "cell_type": "code",
   "execution_count": 6,
   "metadata": {
    "colab": {
     "base_uri": "https://localhost:8080/"
    },
    "executionInfo": {
     "elapsed": 147972,
     "status": "ok",
     "timestamp": 1687979476880,
     "user": {
      "displayName": "Alex Burdenko",
      "userId": "04128376985135405510"
     },
     "user_tz": 240
    },
    "id": "lzgVKo1I9h30",
    "outputId": "c2facde2-eb24-4a20-9c46-907bdbd3df58"
   },
   "outputs": [
    {
     "name": "stdout",
     "output_type": "stream",
     "text": [
      "\u001b[2K     \u001b[90m━━━━━━━━━━━━━━━━━━━━━━━━━━━━━━━━━━━━━━━━\u001b[0m \u001b[32m2.6/2.6 MB\u001b[0m \u001b[31m36.0 MB/s\u001b[0m eta \u001b[36m0:00:00\u001b[0m\n",
      "\u001b[2K     \u001b[90m━━━━━━━━━━━━━━━━━━━━━━━━━━━━━━━━━━━━━━\u001b[0m \u001b[32m321.3/321.3 kB\u001b[0m \u001b[31m25.8 MB/s\u001b[0m eta \u001b[36m0:00:00\u001b[0m\n",
      "\u001b[2K     \u001b[90m━━━━━━━━━━━━━━━━━━━━━━━━━━━━━━━━━━━━━━━━\u001b[0m \u001b[32m2.0/2.0 MB\u001b[0m \u001b[31m74.5 MB/s\u001b[0m eta \u001b[36m0:00:00\u001b[0m\n",
      "\u001b[?25hVertex AI SDK version: 1.26.1\n",
      "\u001b[2K     \u001b[90m━━━━━━━━━━━━━━━━━━━━━━━━━━━━━━━━━━━━━━━━\u001b[0m \u001b[32m1.2/1.2 MB\u001b[0m \u001b[31m24.5 MB/s\u001b[0m eta \u001b[36m0:00:00\u001b[0m\n",
      "\u001b[2K     \u001b[90m━━━━━━━━━━━━━━━━━━━━━━━━━━━━━━━━━━━━━━━━\u001b[0m \u001b[32m90.0/90.0 kB\u001b[0m \u001b[31m7.9 MB/s\u001b[0m eta \u001b[36m0:00:00\u001b[0m\n",
      "\u001b[2K     \u001b[90m━━━━━━━━━━━━━━━━━━━━━━━━━━━━━━━━━━━━━━━━\u001b[0m \u001b[32m49.1/49.1 kB\u001b[0m \u001b[31m5.0 MB/s\u001b[0m eta \u001b[36m0:00:00\u001b[0m\n",
      "\u001b[2K     \u001b[90m━━━━━━━━━━━━━━━━━━━━━━━━━━━━━━━━━━━━━━━━\u001b[0m \u001b[32m19.7/19.7 MB\u001b[0m \u001b[31m67.7 MB/s\u001b[0m eta \u001b[36m0:00:00\u001b[0m\n",
      "\u001b[2K     \u001b[90m━━━━━━━━━━━━━━━━━━━━━━━━━━━━━━━━━━━━━━━━\u001b[0m \u001b[32m57.0/57.0 kB\u001b[0m \u001b[31m2.8 MB/s\u001b[0m eta \u001b[36m0:00:00\u001b[0m\n",
      "\u001b[?25h  Preparing metadata (setup.py) ... \u001b[?25l\u001b[?25hdone\n",
      "\u001b[2K     \u001b[90m━━━━━━━━━━━━━━━━━━━━━━━━━━━━━━━━━━━━━━\u001b[0m \u001b[32m288.4/288.4 kB\u001b[0m \u001b[31m17.4 MB/s\u001b[0m eta \u001b[36m0:00:00\u001b[0m\n",
      "\u001b[2K     \u001b[90m━━━━━━━━━━━━━━━━━━━━━━━━━━━━━━━━━━━━━━━━\u001b[0m \u001b[32m75.4/75.4 kB\u001b[0m \u001b[31m7.0 MB/s\u001b[0m eta \u001b[36m0:00:00\u001b[0m\n",
      "\u001b[2K     \u001b[90m━━━━━━━━━━━━━━━━━━━━━━━━━━━━━━━━━━━━━━\u001b[0m \u001b[32m236.8/236.8 kB\u001b[0m \u001b[31m19.5 MB/s\u001b[0m eta \u001b[36m0:00:00\u001b[0m\n",
      "\u001b[2K     \u001b[90m━━━━━━━━━━━━━━━━━━━━━━━━━━━━━━━━━━━━━━━━\u001b[0m \u001b[32m50.5/50.5 kB\u001b[0m \u001b[31m4.0 MB/s\u001b[0m eta \u001b[36m0:00:00\u001b[0m\n",
      "\u001b[2K     \u001b[90m━━━━━━━━━━━━━━━━━━━━━━━━━━━━━━━━━━━━━━\u001b[0m \u001b[32m137.0/137.0 kB\u001b[0m \u001b[31m10.3 MB/s\u001b[0m eta \u001b[36m0:00:00\u001b[0m\n",
      "\u001b[2K     \u001b[90m━━━━━━━━━━━━━━━━━━━━━━━━━━━━━━━━━━━━━━━━\u001b[0m \u001b[32m45.7/45.7 kB\u001b[0m \u001b[31m3.5 MB/s\u001b[0m eta \u001b[36m0:00:00\u001b[0m\n",
      "\u001b[2K     \u001b[90m━━━━━━━━━━━━━━━━━━━━━━━━━━━━━━━━━━━━━━━━\u001b[0m \u001b[32m58.3/58.3 kB\u001b[0m \u001b[31m5.3 MB/s\u001b[0m eta \u001b[36m0:00:00\u001b[0m\n",
      "\u001b[2K     \u001b[90m━━━━━━━━━━━━━━━━━━━━━━━━━━━━━━━━━━━━━━\u001b[0m \u001b[32m129.9/129.9 kB\u001b[0m \u001b[31m10.8 MB/s\u001b[0m eta \u001b[36m0:00:00\u001b[0m\n",
      "\u001b[2K     \u001b[90m━━━━━━━━━━━━━━━━━━━━━━━━━━━━━━━━━━━━━━━━\u001b[0m \u001b[32m50.4/50.4 kB\u001b[0m \u001b[31m3.2 MB/s\u001b[0m eta \u001b[36m0:00:00\u001b[0m\n",
      "\u001b[2K     \u001b[90m━━━━━━━━━━━━━━━━━━━━━━━━━━━━━━━━━━━━━━━━\u001b[0m \u001b[32m46.5/46.5 kB\u001b[0m \u001b[31m3.3 MB/s\u001b[0m eta \u001b[36m0:00:00\u001b[0m\n",
      "\u001b[2K     \u001b[90m━━━━━━━━━━━━━━━━━━━━━━━━━━━━━━━━━━━━━━━━\u001b[0m \u001b[32m43.7/43.7 kB\u001b[0m \u001b[31m2.6 MB/s\u001b[0m eta \u001b[36m0:00:00\u001b[0m\n",
      "\u001b[2K     \u001b[90m━━━━━━━━━━━━━━━━━━━━━━━━━━━━━━━━━━━━━━━━\u001b[0m \u001b[32m41.0/41.0 kB\u001b[0m \u001b[31m3.2 MB/s\u001b[0m eta \u001b[36m0:00:00\u001b[0m\n",
      "\u001b[2K     \u001b[90m━━━━━━━━━━━━━━━━━━━━━━━━━━━━━━━━━━━━━━━━\u001b[0m \u001b[32m41.0/41.0 kB\u001b[0m \u001b[31m3.1 MB/s\u001b[0m eta \u001b[36m0:00:00\u001b[0m\n",
      "\u001b[2K     \u001b[90m━━━━━━━━━━━━━━━━━━━━━━━━━━━━━━━━━━━━━━━━\u001b[0m \u001b[32m87.5/87.5 kB\u001b[0m \u001b[31m5.4 MB/s\u001b[0m eta \u001b[36m0:00:00\u001b[0m\n",
      "\u001b[2K     \u001b[90m━━━━━━━━━━━━━━━━━━━━━━━━━━━━━━━━━━━━━━━━\u001b[0m \u001b[32m84.5/84.5 kB\u001b[0m \u001b[31m6.9 MB/s\u001b[0m eta \u001b[36m0:00:00\u001b[0m\n",
      "\u001b[2K     \u001b[90m━━━━━━━━━━━━━━━━━━━━━━━━━━━━━━━━━━━━━━━━\u001b[0m \u001b[32m58.3/58.3 kB\u001b[0m \u001b[31m4.2 MB/s\u001b[0m eta \u001b[36m0:00:00\u001b[0m\n",
      "\u001b[2K     \u001b[90m━━━━━━━━━━━━━━━━━━━━━━━━━━━━━━━━━━━━━━━━\u001b[0m \u001b[32m67.0/67.0 kB\u001b[0m \u001b[31m5.7 MB/s\u001b[0m eta \u001b[36m0:00:00\u001b[0m\n",
      "\u001b[2K     \u001b[90m━━━━━━━━━━━━━━━━━━━━━━━━━━━━━━━━━━━━━━━━\u001b[0m \u001b[32m72.5/72.5 kB\u001b[0m \u001b[31m5.2 MB/s\u001b[0m eta \u001b[36m0:00:00\u001b[0m\n",
      "\u001b[?25h  Building wheel for ffmpy (setup.py) ... \u001b[?25l\u001b[?25hdone\n",
      "\u001b[2K     \u001b[90m━━━━━━━━━━━━━━━━━━━━━━━━━━━━━━━━━━━━━━━\u001b[0m \u001b[32m123.6/123.6 kB\u001b[0m \u001b[31m5.9 MB/s\u001b[0m eta \u001b[36m0:00:00\u001b[0m\n",
      "\u001b[2K     \u001b[90m━━━━━━━━━━━━━━━━━━━━━━━━━━━━━━━━━━━━━━━━\u001b[0m \u001b[32m62.6/62.6 kB\u001b[0m \u001b[31m5.5 MB/s\u001b[0m eta \u001b[36m0:00:00\u001b[0m\n",
      "\u001b[?25h  Installing build dependencies ... \u001b[?25l\u001b[?25hdone\n",
      "  Getting requirements to build wheel ... \u001b[?25l\u001b[?25hdone\n",
      "  Preparing metadata (pyproject.toml) ... \u001b[?25l\u001b[?25hdone\n",
      "\u001b[2K     \u001b[90m━━━━━━━━━━━━━━━━━━━━━━━━━━━━━━━━━━━━━━━\u001b[0m \u001b[32m965.1/965.1 kB\u001b[0m \u001b[31m6.9 MB/s\u001b[0m eta \u001b[36m0:00:00\u001b[0m\n",
      "\u001b[2K     \u001b[90m━━━━━━━━━━━━━━━━━━━━━━━━━━━━━━━━━━━━━━━━\u001b[0m \u001b[32m5.3/5.3 MB\u001b[0m \u001b[31m57.9 MB/s\u001b[0m eta \u001b[36m0:00:00\u001b[0m\n",
      "\u001b[2K     \u001b[90m━━━━━━━━━━━━━━━━━━━━━━━━━━━━━━━━━━━━━━━━\u001b[0m \u001b[32m5.9/5.9 MB\u001b[0m \u001b[31m79.4 MB/s\u001b[0m eta \u001b[36m0:00:00\u001b[0m\n",
      "\u001b[2K     \u001b[90m━━━━━━━━━━━━━━━━━━━━━━━━━━━━━━━━━━━━━━━━\u001b[0m \u001b[32m7.8/7.8 MB\u001b[0m \u001b[31m59.1 MB/s\u001b[0m eta \u001b[36m0:00:00\u001b[0m\n",
      "\u001b[2K     \u001b[90m━━━━━━━━━━━━━━━━━━━━━━━━━━━━━━━━━━━━━━━━\u001b[0m \u001b[32m2.7/2.7 MB\u001b[0m \u001b[31m64.7 MB/s\u001b[0m eta \u001b[36m0:00:00\u001b[0m\n",
      "\u001b[2K     \u001b[90m━━━━━━━━━━━━━━━━━━━━━━━━━━━━━━━━━━━━━━━━\u001b[0m \u001b[32m1.3/1.3 MB\u001b[0m \u001b[31m35.6 MB/s\u001b[0m eta \u001b[36m0:00:00\u001b[0m\n",
      "\u001b[2K     \u001b[90m━━━━━━━━━━━━━━━━━━━━━━━━━━━━━━━━━━━━━━━━\u001b[0m \u001b[32m46.0/46.0 kB\u001b[0m \u001b[31m2.8 MB/s\u001b[0m eta \u001b[36m0:00:00\u001b[0m\n",
      "\u001b[2K     \u001b[90m━━━━━━━━━━━━━━━━━━━━━━━━━━━━━━━━━━━━━━\u001b[0m \u001b[32m414.1/414.1 kB\u001b[0m \u001b[31m27.0 MB/s\u001b[0m eta \u001b[36m0:00:00\u001b[0m\n",
      "\u001b[2K     \u001b[90m━━━━━━━━━━━━━━━━━━━━━━━━━━━━━━━━━━━━━━━━\u001b[0m \u001b[32m4.1/4.1 MB\u001b[0m \u001b[31m79.2 MB/s\u001b[0m eta \u001b[36m0:00:00\u001b[0m\n",
      "\u001b[2K     \u001b[90m━━━━━━━━━━━━━━━━━━━━━━━━━━━━━━━━━━━━━━━━\u001b[0m \u001b[32m1.3/1.3 MB\u001b[0m \u001b[31m58.5 MB/s\u001b[0m eta \u001b[36m0:00:00\u001b[0m\n",
      "\u001b[2K     \u001b[90m━━━━━━━━━━━━━━━━━━━━━━━━━━━━━━━━━━━━━━━━\u001b[0m \u001b[32m86.8/86.8 kB\u001b[0m \u001b[31m8.3 MB/s\u001b[0m eta \u001b[36m0:00:00\u001b[0m\n",
      "\u001b[?25h  Building wheel for hnswlib (pyproject.toml) ... \u001b[?25l\u001b[?25hdone\n",
      "\u001b[31mERROR: pip's dependency resolver does not currently take into account all the packages that are installed. This behaviour is the source of the following dependency conflicts.\n",
      "google-colab 1.0.0 requires requests==2.27.1, but you have requests 2.31.0 which is incompatible.\u001b[0m\u001b[31m\n",
      "\u001b[2K     \u001b[90m━━━━━━━━━━━━━━━━━━━━━━━━━━━━━━━━━━━━━━━━\u001b[0m \u001b[32m1.6/1.6 MB\u001b[0m \u001b[31m20.4 MB/s\u001b[0m eta \u001b[36m0:00:00\u001b[0m\n",
      "\u001b[2K     \u001b[90m━━━━━━━━━━━━━━━━━━━━━━━━━━━━━━━━━━━━━━━\u001b[0m \u001b[32m265.4/265.4 kB\u001b[0m \u001b[31m7.9 MB/s\u001b[0m eta \u001b[36m0:00:00\u001b[0m\n",
      "\u001b[?25hrestarting kernel...\n"
     ]
    },
    {
     "data": {
      "text/plain": [
       "{'status': 'ok', 'restart': True}"
      ]
     },
     "execution_count": 6,
     "metadata": {},
     "output_type": "execute_result"
    }
   ],
   "source": [
    "#!pip3 uninstall -y google-cloud-aiplatform\n",
    "!pip install google-cloud-aiplatform --upgrade --quiet\n",
    "\n",
    "from google.cloud import aiplatform\n",
    "print(f\"Vertex AI SDK version: {aiplatform.__version__}\")\n",
    "\n",
    "# Install Python Libraries\n",
    "!pip install langchain --upgrade --quiet\n",
    "!pip install google-cloud-core --quiet\n",
    "!pip install gradio --quiet\n",
    "!pip install gradio_tools --quiet\n",
    "\n",
    "!pip install chromadb --quiet\n",
    "\n",
    "# Below libraries are required to build a SQL engine for BigQuery\n",
    "!pip install SQLAlchemy --quiet\n",
    "!pip install sqlalchemy-bigquery --quiet\n",
    "!pip install google-cloud-pubsub --quiet\n",
    "\n",
    "import IPython\n",
    "print( 'restarting kernel...' )\n",
    "app = IPython.Application.instance()\n",
    "app.kernel.do_shutdown(True)"
   ]
  },
  {
   "cell_type": "markdown",
   "metadata": {
    "id": "HBQjT-kZOLPn"
   },
   "source": [
    "#Since the kernel restarted at this point, you can run all cells below."
   ]
  },
  {
   "cell_type": "code",
   "execution_count": 2,
   "metadata": {
    "executionInfo": {
     "elapsed": 172,
     "status": "ok",
     "timestamp": 1687979249142,
     "user": {
      "displayName": "Alex Burdenko",
      "userId": "04128376985135405510"
     },
     "user_tz": 240
    },
    "id": "3HMTqsUMoXEx"
   },
   "outputs": [],
   "source": [
    "%reload_ext autoreload\n",
    "%autoreload 2"
   ]
  },
  {
   "cell_type": "code",
   "execution_count": 3,
   "metadata": {
    "executionInfo": {
     "elapsed": 14432,
     "status": "ok",
     "timestamp": 1687979263791,
     "user": {
      "displayName": "Alex Burdenko",
      "userId": "04128376985135405510"
     },
     "user_tz": 240
    },
    "id": "DtJU7su79db8"
   },
   "outputs": [],
   "source": [
    "# Authenticate with Google account\n",
    "from google.colab import auth as google_auth\n",
    "google_auth.authenticate_user()\n",
    "\n",
    "import google.auth\n",
    "credentials, project = google.auth.default()\n",
    "from google.cloud.bigquery import magics\n",
    "magics.context.credentials = credentials"
   ]
  },
  {
   "cell_type": "markdown",
   "metadata": {
    "id": "aDJshtqgxlsI"
   },
   "source": [
    "### LLM Model Initialization & App parameters initialization"
   ]
  },
  {
   "cell_type": "code",
   "execution_count": 4,
   "metadata": {
    "colab": {
     "base_uri": "https://localhost:8080/"
    },
    "executionInfo": {
     "elapsed": 3308,
     "status": "ok",
     "timestamp": 1687979267086,
     "user": {
      "displayName": "Alex Burdenko",
      "userId": "04128376985135405510"
     },
     "user_tz": 240
    },
    "id": "o6eipz3LxgtE",
    "outputId": "d013b9cd-5205-4e61-c582-6150f3c879e5"
   },
   "outputs": [
    {
     "name": "stdout",
     "output_type": "stream",
     "text": [
      "env: IN_COLAB=True\n",
      "Updated property [core/project].\n",
      "kallogjeri-project-345114\n"
     ]
    }
   ],
   "source": [
    "# @title Specify Project details and LOCATION of the BQ table\n",
    "\n",
    "PROJECT_ID = \"kallogjeri-project-345114\"  # @param {type:\"string\"}\n",
    "DB_PROJECT_ID = \"sciwalker-open-data\"  # @param {type:\"string\"}\n",
    "\n",
    "#DB_PROJECT_ID = \"cloud-llm-preview1\"  # @param {type:\"string\"}\n",
    "LOCATION = \"us-central1\"  # @param {type:\"string\"}\n",
    "#DATASET_ID = 'blackbelt_capstone_healthcare' # @param {type:\"string\"}\n",
    "DATASET_ID = 'clinical_trials_aact' # @param {type:\"string\"}\n",
    "\n",
    "#@markdown ### Enter the topic name and subscription to be used for pub/sub\n",
    "TOPIC_NAME=\"customer-chat\" # @param {type:\"string\"}\n",
    "SUBSCRIPTION=\"colab-sub\" # @param {type:\"string\"}\n",
    "\n",
    "\n",
    "import sys\n",
    "IN_COLAB = 'google.colab' in sys.modules\n",
    "%env IN_COLAB=$IN_COLAB\n",
    "\n",
    "!gcloud config set project $PROJECT_ID -q\n",
    "!gcloud config get project"
   ]
  },
  {
   "cell_type": "code",
   "execution_count": 5,
   "metadata": {
    "colab": {
     "base_uri": "https://localhost:8080/",
     "height": 374
    },
    "executionInfo": {
     "elapsed": 99,
     "status": "error",
     "timestamp": 1687979267089,
     "user": {
      "displayName": "Alex Burdenko",
      "userId": "04128376985135405510"
     },
     "user_tz": 240
    },
    "id": "bD11DyhUpxDX",
    "outputId": "0abdeaeb-8881-48e2-bcb5-9e3b6278c181"
   },
   "outputs": [
    {
     "ename": "ModuleNotFoundError",
     "errorDetails": {
      "actions": [
       {
        "action": "open_url",
        "actionText": "Open Examples",
        "url": "/notebooks/snippets/importing_libraries.ipynb"
       }
      ]
     },
     "evalue": "ignored",
     "output_type": "error",
     "traceback": [
      "\u001b[0;31m---------------------------------------------------------------------------\u001b[0m",
      "\u001b[0;31mModuleNotFoundError\u001b[0m                       Traceback (most recent call last)",
      "\u001b[0;32m<ipython-input-5-1a90d94d1433>\u001b[0m in \u001b[0;36m<cell line: 1>\u001b[0;34m()\u001b[0m\n\u001b[0;32m----> 1\u001b[0;31m \u001b[0;32mimport\u001b[0m \u001b[0mvertexai\u001b[0m\u001b[0;34m\u001b[0m\u001b[0;34m\u001b[0m\u001b[0m\n\u001b[0m\u001b[1;32m      2\u001b[0m \u001b[0;34m\u001b[0m\u001b[0m\n\u001b[1;32m      3\u001b[0m \u001b[0mvertexai\u001b[0m\u001b[0;34m.\u001b[0m\u001b[0minit\u001b[0m\u001b[0;34m(\u001b[0m\u001b[0mproject\u001b[0m\u001b[0;34m=\u001b[0m\u001b[0mPROJECT_ID\u001b[0m\u001b[0;34m,\u001b[0m \u001b[0mlocation\u001b[0m\u001b[0;34m=\u001b[0m\u001b[0mLOCATION\u001b[0m\u001b[0;34m)\u001b[0m\u001b[0;34m\u001b[0m\u001b[0;34m\u001b[0m\u001b[0m\n\u001b[1;32m      4\u001b[0m \u001b[0;34m\u001b[0m\u001b[0m\n\u001b[1;32m      5\u001b[0m \u001b[0;32mfrom\u001b[0m \u001b[0mlangchain\u001b[0m\u001b[0;34m.\u001b[0m\u001b[0mllms\u001b[0m \u001b[0;32mimport\u001b[0m \u001b[0mVertexAI\u001b[0m\u001b[0;34m\u001b[0m\u001b[0;34m\u001b[0m\u001b[0m\n",
      "\u001b[0;31mModuleNotFoundError\u001b[0m: No module named 'vertexai'",
      "",
      "\u001b[0;31m---------------------------------------------------------------------------\u001b[0;32m\nNOTE: If your import is failing due to a missing package, you can\nmanually install dependencies using either !pip or !apt.\n\nTo view examples of installing some common dependencies, click the\n\"Open Examples\" button below.\n\u001b[0;31m---------------------------------------------------------------------------\u001b[0m\n"
     ]
    }
   ],
   "source": [
    "import vertexai\n",
    "\n",
    "vertexai.init(project=PROJECT_ID, location=LOCATION)\n",
    "\n",
    "from langchain.llms import VertexAI\n",
    "llm = VertexAI(\n",
    "    model_name='text-bison',\n",
    "    max_output_tokens=1024,\n",
    "    temperature=0.1, # 0 causes some responses to get blocked!\n",
    "    top_p=1,\n",
    "    top_k=40,\n",
    "    verbose=True\n",
    ")"
   ]
  },
  {
   "cell_type": "markdown",
   "metadata": {
    "id": "LqDhLithzJgd"
   },
   "source": [
    "### Create SQL engine for BigQuery"
   ]
  },
  {
   "cell_type": "code",
   "execution_count": null,
   "metadata": {
    "executionInfo": {
     "elapsed": 83,
     "status": "aborted",
     "timestamp": 1687979267095,
     "user": {
      "displayName": "Alex Burdenko",
      "userId": "04128376985135405510"
     },
     "user_tz": 240
    },
    "id": "NmRwdkm9Mm_u"
   },
   "outputs": [],
   "source": [
    "from sqlalchemy import *\n",
    "from sqlalchemy.engine import create_engine\n",
    "from sqlalchemy.schema import *\n",
    "import pandas as pd"
   ]
  },
  {
   "cell_type": "code",
   "execution_count": null,
   "metadata": {
    "executionInfo": {
     "elapsed": 83,
     "status": "aborted",
     "timestamp": 1687979267099,
     "user": {
      "displayName": "Alex Burdenko",
      "userId": "04128376985135405510"
     },
     "user_tz": 240
    },
    "id": "nBzy1sV51h1e"
   },
   "outputs": [],
   "source": [
    "from google.cloud import bigquery\n",
    "\n",
    "# Create a BigQuery client.\n",
    "bq_client = bigquery.Client(project=PROJECT_ID)\n",
    "\n",
    "table_uri = f\"bigquery://{PROJECT_ID}/{DATASET_ID}\"\n",
    "engine = create_engine(\n",
    "    f\"bigquery://{DB_PROJECT_ID}/{DATASET_ID}?user_supplied_client=True\",\n",
    "    connect_args={'client': bq_client}\n",
    ")"
   ]
  },
  {
   "cell_type": "code",
   "execution_count": null,
   "metadata": {
    "executionInfo": {
     "elapsed": 94,
     "status": "aborted",
     "timestamp": 1687979267111,
     "user": {
      "displayName": "Alex Burdenko",
      "userId": "04128376985135405510"
     },
     "user_tz": 240
    },
    "id": "nuqDGnnG5Dp7"
   },
   "outputs": [],
   "source": [
    "from google.cloud import bigquery\n",
    "\n",
    "def create_ds_view( tbl_name ):\n",
    "  view_name = f\"vw_{tbl_name}\"\n",
    "  view_id = f\"{PROJECT_ID}.{DATASET_ID}.{view_name}\"\n",
    "  source_id = f\"{DB_PROJECT_ID}.{DATASET_ID}.{tbl_name}\"\n",
    "  view = bigquery.Table(view_id)\n",
    "\n",
    "  view.view_query = f\"SELECT * FROM `{source_id}`\"\n",
    "\n",
    "  # Make an API request to create the view.\n",
    "  view = bq_client.create_table(view, exists_ok=True)\n",
    "  #print(f\"Created {view.table_type}: {str(view.reference)}\")\n",
    "  fq_view_name = f\"{DATASET_ID}.{view_name}\"\n",
    "  return view_name, fq_view_name\n",
    "\n",
    "\n",
    "\n",
    "query = f\"\"\"SELECT table_name \\\n",
    "  FROM `{DB_PROJECT_ID}.{DATASET_ID}`.INFORMATION_SCHEMA.COLUMNS \"\"\"\n",
    "\n",
    "tbl_names = set(engine.execute(query).unique().fetchall())\n",
    "from itertools import chain\n",
    "tbl_names = list(chain(*tbl_names))\n",
    "\n",
    "# Create the dataset if it doesn't exist\n",
    "try:\n",
    "    bq_client.get_dataset(DATASET_ID)\n",
    "except:\n",
    "    # The dataset doesn't exist, so create it.\n",
    "    dataset = bigquery.Dataset(f\"{PROJECT_ID}.{DATASET_ID}\")\n",
    "    bq_client.create_dataset(dataset)\n",
    "\n",
    "\n",
    "view_struct = list(map( create_ds_view, tbl_names ))\n",
    "\n",
    "view_names = [view[0] for view in view_struct]\n",
    "print(view_names)\n",
    "fq_view_names = [view[1] for view in view_struct]\n",
    "\n",
    "\n",
    "table_str = \"','\".join(tbl_names)\n",
    "view_str = \"','\".join(view_names)\n",
    "\n",
    "column_query =  f\"SELECT table_name, column_name \\\n",
    "  FROM `{PROJECT_ID}.{DATASET_ID}`.INFORMATION_SCHEMA.COLUMNS \\\n",
    "  WHERE table_name in ('{view_str}')\"\n",
    "\n",
    "print(column_query)\n",
    "\n",
    "columns =  list(engine.execute(column_query).unique().fetchall())\n",
    "#print(columns[1])\n",
    "columns = list(chain(*columns))\n",
    "#print(columns)\n",
    "\n",
    "column_names = list(map(lambda x, y: f\"{x}.{y}\", columns[::2], columns[1::2]))"
   ]
  },
  {
   "cell_type": "code",
   "execution_count": null,
   "metadata": {
    "executionInfo": {
     "elapsed": 97,
     "status": "aborted",
     "timestamp": 1687979267120,
     "user": {
      "displayName": "Alex Burdenko",
      "userId": "04128376985135405510"
     },
     "user_tz": 240
    },
    "id": "B66bo-RKK266"
   },
   "outputs": [],
   "source": [
    "query=f\"\"\"SELECT * FROM {PROJECT_ID}.{DATASET_ID}.{view_struct[0][0]} limit 1000\"\"\"\n",
    "engine.execute(query).first()"
   ]
  },
  {
   "cell_type": "code",
   "execution_count": null,
   "metadata": {
    "executionInfo": {
     "elapsed": 102,
     "status": "aborted",
     "timestamp": 1687979267128,
     "user": {
      "displayName": "Alex Burdenko",
      "userId": "04128376985135405510"
     },
     "user_tz": 240
    },
    "id": "U9E6rR-FiTmi"
   },
   "outputs": [],
   "source": [
    "from google.cloud import bigquery\n",
    "from langchain import SQLDatabase\n",
    "from sqlalchemy import create_engine, MetaData\n",
    "\n",
    "\n",
    "# Create a BigQuery client.\n",
    "bq_client = bigquery.Client(project=PROJECT_ID)\n",
    "\n",
    "table_uri = f\"bigquery://{PROJECT_ID}/{DATASET_ID}\"\n",
    "# engine = create_engine(\n",
    "#     f\"bigquery://{PROJECT_ID}/{DATASET_ID}?user_supplied_client=True\",\n",
    "#     connect_args={'client': bq_client}\n",
    "# )\n",
    "\n",
    "table_uri = f\"bigquery://{PROJECT_ID}/{DATASET_ID}\"\n",
    "engine = create_engine(f\"bigquery://{PROJECT_ID}/{DATASET_ID}\")\n",
    "query=f\"\"\"SELECT * FROM {DB_PROJECT_ID}.{DATASET_ID}.{tbl_names[0]} limit 1000000\"\"\"\n",
    "engine.execute(query).first()\n",
    "\n",
    "\n",
    "# Create an instance of SQLDatabase\n",
    "db = SQLDatabase(\n",
    "    engine=engine,\n",
    "    metadata=MetaData(bind=engine),\n",
    "    include_tables=view_names,\n",
    "    view_support=True,\n",
    ")\n"
   ]
  },
  {
   "cell_type": "markdown",
   "metadata": {
    "id": "mpW-rMVI0DUZ"
   },
   "source": [
    "### SQL Chain setup for LLM"
   ]
  },
  {
   "cell_type": "code",
   "execution_count": 2,
   "metadata": {
    "executionInfo": {
     "elapsed": 104,
     "status": "aborted",
     "timestamp": 1687979267132,
     "user": {
      "displayName": "Alex Burdenko",
      "userId": "04128376985135405510"
     },
     "user_tz": 240
    },
    "id": "JxXDsaPIWe_n"
   },
   "outputs": [
    {
     "ename": "NameError",
     "evalue": "name 'PROJECT_ID' is not defined",
     "output_type": "error",
     "traceback": [
      "\u001b[0;31m---------------------------------------------------------------------------\u001b[0m",
      "\u001b[0;31mNameError\u001b[0m                                 Traceback (most recent call last)",
      "Cell \u001b[0;32mIn[2], line 4\u001b[0m\n\u001b[1;32m      1\u001b[0m \u001b[38;5;28;01mimport\u001b[39;00m \u001b[38;5;21;01mjson\u001b[39;00m\n\u001b[1;32m      2\u001b[0m \u001b[38;5;28;01mimport\u001b[39;00m \u001b[38;5;21;01mre\u001b[39;00m\n\u001b[0;32m----> 4\u001b[0m \u001b[38;5;28;01mdef\u001b[39;00m \u001b[38;5;21mconvert_llm_response_to_gradio_json\u001b[39m(llm_response, PROJECT_ID\u001b[38;5;241m=\u001b[39m\u001b[43mPROJECT_ID\u001b[49m, DB_PROJECT_ID\u001b[38;5;241m=\u001b[39mDB_PROJECT_ID):\n\u001b[1;32m      5\u001b[0m \u001b[38;5;250m  \u001b[39m\u001b[38;5;124;03m\"\"\"Converts an LLM response string to GradiO JSON.\u001b[39;00m\n\u001b[1;32m      6\u001b[0m \n\u001b[1;32m      7\u001b[0m \u001b[38;5;124;03m  Args:\u001b[39;00m\n\u001b[0;32m   (...)\u001b[0m\n\u001b[1;32m     11\u001b[0m \u001b[38;5;124;03m    The GradiO JSON object.\u001b[39;00m\n\u001b[1;32m     12\u001b[0m \u001b[38;5;124;03m  \"\"\"\u001b[39;00m\n\u001b[1;32m     14\u001b[0m   \u001b[38;5;66;03m# Extract SQLQuery value\u001b[39;00m\n",
      "\u001b[0;31mNameError\u001b[0m: name 'PROJECT_ID' is not defined"
     ]
    }
   ],
   "source": [
    "import json\n",
    "import re\n",
    "\n",
    "def convert_llm_response_to_gradio_json(llm_response, PROJECT_ID=PROJECT_ID, DB_PROJECT_ID=DB_PROJECT_ID):\n",
    "  \"\"\"Converts an LLM response string to GradiO JSON.\n",
    "\n",
    "  Args:\n",
    "    llm_response: The LLM response string.\n",
    "\n",
    "  Returns:\n",
    "    The GradiO JSON object.\n",
    "  \"\"\"\n",
    "\n",
    "  # Extract SQLQuery value\n",
    "  sql_query : str = llm_response.split(\"SQLQuery:\")[1].split(\"Answer:\")[0].strip()\n",
    "  sql_query = sql_query.replace( PROJECT_ID, DB_PROJECT_ID )\n",
    "\n",
    "  # Extract Answer value\n",
    "  answer = str(llm_response.split(\"Answer:\")[1].strip())\n",
    "\n",
    "  if not answer.startswith(\"['\"):\n",
    "    answer = \"['\" + answer\n",
    "\n",
    "  import re\n",
    "  if not re.match(r\".*']\", answer) and len(answer)>0:\n",
    "    answer = answer + \"']\"\n",
    "\n",
    "  return  answer, sql_query\n",
    "\n",
    "\n",
    "llm_response=f\"\\\n",
    "SQLQuery: SELECT DISTINCT meshcode \\\n",
    "FROM `{PROJECT_ID}`.vw_cid_meshcodes \\\n",
    "WHERE cid = 123456 \\\n",
    "ORDER BY COUNT(meshcode) DESC \\\n",
    "LIMIT 10 \\\n",
    "Answer: D000077600, D000077601, D000077602, D000077603, D000077604, D000077605, D000077606, D000077607, D000077608, D000077609\"\n",
    "\n",
    "convert_llm_response_to_gradio_json(llm_response, PROJECT_ID, DB_PROJECT_ID)"
   ]
  },
  {
   "cell_type": "code",
   "execution_count": null,
   "metadata": {
    "executionInfo": {
     "elapsed": 106,
     "status": "aborted",
     "timestamp": 1687979267135,
     "user": {
      "displayName": "Alex Burdenko",
      "userId": "04128376985135405510"
     },
     "user_tz": 240
    },
    "id": "5EO8seO3IE7v"
   },
   "outputs": [],
   "source": [
    "from langchain.prompts.chat import BaseStringMessagePromptTemplate\n",
    "from langchain import SQLDatabase, SQLDatabaseChain\n",
    "from langchain.prompts.prompt import PromptTemplate\n",
    "from langchain import PromptTemplate, LLMChain\n",
    "\n",
    "def bq_qna(question):\n",
    "  #create SQLDatabase instance from BQ engine\n",
    "  db = SQLDatabase(engine=engine,metadata=MetaData(bind=engine),include_tables=view_names, view_support=True)\n",
    "\n",
    "  #create SQL DB Chain with the initialized LLM and above SQLDB instance\n",
    "  db_chain = SQLDatabaseChain.from_llm(llm, db, verbose=True, return_intermediate_steps=True)\n",
    "\n",
    "  #Define prompt for BigQuery SQL\n",
    "  _googlesql_prompt = \"\"\"You are a GoogleSQL expert. Given an input question, first create a syntactically correct GoogleSQL query to run, then look at the results of the query and return the answer to the input question.\n",
    "  Unless the user specifies in the question a specific number of examples to obtain, query for at most {top_k} results using the LIMIT clause as per GoogleSQL. You can order the results to return the most informative data in the database.\n",
    "  Never query for all columns from a table. You must query only the columns that are needed to answer the question. Wrap each column name in backticks (`) to denote them as delimited identifiers.\n",
    "  Pay attention to use only the column names you can see in the tables below. Be careful to not query for columns that do not exist. Also, pay attention to which column is in which table.\n",
    "  Use the following format:\n",
    "  Question: \"Question here\"\n",
    "  SQLQuery: \"SQL Query to run\"\n",
    "  Answer: \"Final answer here\"\n",
    "\n",
    "  Limit the response to 1024 characters.\n",
    "\n",
    "  Only use the following tables:\n",
    "  ('{table_str}')\n",
    "\n",
    "  If someone asks for aggregation on a STRING data type column, then CAST column as NUMERIC before you do the aggregation.\n",
    "\n",
    "  If someone asks for specific month, use ActivityDate between current month's start date and current month's end date.\n",
    "\n",
    "  If someone asks for column names in the table, use the following format:\n",
    "  SELECT column_name\n",
    "  FROM `{PROJECT_ID}.{DATASET_ID}`.INFORMATION_SCHEMA.COLUMNS\n",
    "  WHERE table_name in ('{table_str}').\n",
    "\n",
    "  Question: {input}\"\"\"\n",
    "\n",
    "  GOOGLESQL_PROMPT = PromptTemplate(\n",
    "      input_variables=[\"input\", \"PROJECT_ID\", \"DATASET_ID\", \"table_str\", \"top_k\"],\n",
    "      template=_googlesql_prompt\n",
    "  )\n",
    "\n",
    "  #passing question to the prompt template\n",
    "  final_prompt = GOOGLESQL_PROMPT.format(input=question, PROJECT_ID =PROJECT_ID, DATASET_ID=DATASET_ID, table_str=\"','\".join(fq_view_names), top_k=10000)\n",
    "\n",
    "  #print( final_prompt)\n",
    "\n",
    "  result = llm.predict( final_prompt )\n",
    "  return convert_llm_response_to_gradio_json(result)\n"
   ]
  },
  {
   "cell_type": "markdown",
   "metadata": {
    "id": "LAlVAHPe16Xr"
   },
   "source": [
    "### Testing the setup"
   ]
  },
  {
   "cell_type": "code",
   "execution_count": null,
   "metadata": {
    "executionInfo": {
     "elapsed": 109,
     "status": "aborted",
     "timestamp": 1687979267139,
     "user": {
      "displayName": "Alex Burdenko",
      "userId": "04128376985135405510"
     },
     "user_tz": 240
    },
    "id": "BFjDzuKsfgLA"
   },
   "outputs": [],
   "source": [
    "#Testing 0\n",
    "res = bq_qna('Find all tetrazole ocid subject compounds in clinical trials.')\n",
    "print(res)"
   ]
  },
  {
   "cell_type": "code",
   "execution_count": null,
   "metadata": {
    "executionInfo": {
     "elapsed": 18254,
     "status": "aborted",
     "timestamp": 1687979267140,
     "user": {
      "displayName": "Alex Burdenko",
      "userId": "04128376985135405510"
     },
     "user_tz": 240
    },
    "id": "uCiICBA4LDlR"
   },
   "outputs": [],
   "source": [
    "#Testing 1\n",
    "res = bq_qna('What are the top 10 most common mesh codes for compounds with a PubChem CID of 123456?')\n",
    "print(res)"
   ]
  },
  {
   "cell_type": "code",
   "execution_count": null,
   "metadata": {
    "executionInfo": {
     "elapsed": 18245,
     "status": "aborted",
     "timestamp": 1687979267142,
     "user": {
      "displayName": "Alex Burdenko",
      "userId": "04128376985135405510"
     },
     "user_tz": 240
    },
    "id": "CdEEC8QGth37"
   },
   "outputs": [],
   "source": [
    "#Testing 2\n",
    "res = bq_qna('What kind of assays are in PubChem?')\n",
    "print(res)"
   ]
  },
  {
   "cell_type": "code",
   "execution_count": null,
   "metadata": {
    "executionInfo": {
     "elapsed": 18237,
     "status": "aborted",
     "timestamp": 1687979267145,
     "user": {
      "displayName": "Alex Burdenko",
      "userId": "04128376985135405510"
     },
     "user_tz": 240
    },
    "id": "qCe951Jmb-X5"
   },
   "outputs": [],
   "source": [
    "#Testing 3\n",
    "res = bq_qna('How many molecules have EC50 assays for SGLT2 protein?')\n",
    "print(res)"
   ]
  },
  {
   "cell_type": "markdown",
   "metadata": {
    "id": "9Hj4JSWf2JKF"
   },
   "source": [
    "### UI for Demo"
   ]
  },
  {
   "cell_type": "markdown",
   "metadata": {
    "id": "1fSD3oi433jU"
   },
   "source": [
    "Sample Inputs:\n",
    "\n",
    "  * What are the top 10 most common mesh codes for compounds with a PubChem CID of 123456?\n",
    "\n",
    "  * What kinds of assays are in PubChem?\n",
    "\n",
    "  * How many molecules have EC50 assays for SGLT2 protein?"
   ]
  },
  {
   "cell_type": "code",
   "execution_count": null,
   "metadata": {
    "executionInfo": {
     "elapsed": 18230,
     "status": "aborted",
     "timestamp": 1687979267151,
     "user": {
      "displayName": "Alex Burdenko",
      "userId": "04128376985135405510"
     },
     "user_tz": 240
    },
    "id": "WDR9B3UfqskZ"
   },
   "outputs": [],
   "source": [
    "from logging import debug\n",
    "import gradio as gr\n",
    "import warnings\n",
    "warnings.filterwarnings('ignore')\n",
    "\n",
    "# Create a Gradio interface.\n",
    "interface = gr.Interface(\n",
    "\n",
    "    inputs=[gr.inputs.Textbox(label=\"Question\", placeholder=\"What are the top 10 most common mesh codes for compounds with a PubChem CID of 123456?\")],\n",
    "    outputs=[ gr.outputs.Textbox(label=\"Answer\"), gr.outputs.Textbox(label=\"SQL Query\")],\n",
    "    fn=bq_qna,debug=True\n",
    "  )\n",
    "\n",
    "  # Display the Gradio interface.\n",
    "\n",
    "interface.launch(debug=False)"
   ]
  },
  {
   "cell_type": "markdown",
   "metadata": {
    "id": "q_NWXNUkV-7i"
   },
   "source": [
    "# Interact with a front end via Pub/Sub"
   ]
  },
  {
   "cell_type": "code",
   "execution_count": null,
   "metadata": {
    "executionInfo": {
     "elapsed": 18229,
     "status": "aborted",
     "timestamp": 1687979267154,
     "user": {
      "displayName": "Alex Burdenko",
      "userId": "04128376985135405510"
     },
     "user_tz": 240
    },
    "id": "GC2tKTcFW-_q"
   },
   "outputs": [],
   "source": [
    "import os\n",
    "import json\n",
    "from google.cloud import pubsub\n",
    "\n",
    "subscription_name = f\"projects/{PROJECT_ID}/subscriptions/{SUBSCRIPTION}\"\n",
    "\n",
    "\n",
    "\n",
    "msg_result = None\n",
    "res = None\n",
    "def callback(message):\n",
    "    data_dict = json.loads(message.data)\n",
    "    if not 'response' in data_dict.keys():\n",
    "      response = data_dict\n",
    "      msg_result = message.ack_with_response()\n",
    "      print(response)\n",
    "      question = data_dict['question']\n",
    "      res = bq_qna(question)\n",
    "\n",
    "      future.cancel()\n",
    "\n",
    "\n",
    "\n",
    "with pubsub.SubscriberClient() as subscriber:\n",
    "    # subscriber.create_subscription(\n",
    "    #     name=subscription_name, topic=topic_name)\n",
    "    response = dict()\n",
    "    future = subscriber.subscribe(subscription_name, callback)\n",
    "    result = future.result()\n",
    "\n",
    "    print(msg_result)\n",
    "\n",
    "\n",
    "\n",
    "    # # Initialize request argument(s)\n",
    "    # request = subscriber.AcknowledgeRequest(\n",
    "    #     subscription=subscription_name,\n",
    "    #     ack_ids=[msg.ack_id]\n",
    "    # )\n",
    "\n",
    "    # future.cancel()\n",
    "\n",
    "\n",
    "    # # Make the request\n",
    "    # #client.acknowledge(request=request)\n",
    "    # #msg = future.result()\n",
    "    # print(msg)\n",
    "    # subscriber.close()\n",
    "    # # Cancel the future.\n",
    "    # future.cancel()\n",
    "\n",
    "    # Check if the future was cancelled.\n",
    "    if future.cancelled():\n",
    "        print(\"The future was cancelled.\")\n",
    "    else:\n",
    "        print(\"The future was not cancelled.\")\n",
    "\n",
    "fq_topic_name = f\"projects/{PROJECT_ID}/topics/{TOPIC_NAME}\"\n",
    "\n",
    "with pubsub.PublisherClient() as publisher:\n",
    "  # Convert the dictionary to a JSON string.\n",
    "  message_data = dict()\n",
    "  message_data['response'] = res\n",
    "  json_string = json.dumps(message_data)\n",
    "\n",
    "  # Convert the JSON string to a bytestring.\n",
    "  bytestring = bytes(json_string, \"utf-8\")\n",
    "  future = publisher.publish(fq_topic_name, bytestring)\n",
    "  message = future.result()\n",
    "\n",
    "print(response)"
   ]
  }
 ],
 "metadata": {
  "colab": {
   "provenance": [],
   "toc_visible": true
  },
  "environment": {
   "kernel": "python3",
   "name": "common-cpu.m109",
   "type": "gcloud",
   "uri": "gcr.io/deeplearning-platform-release/base-cpu:m109"
  },
  "kernelspec": {
   "display_name": "Python 3",
   "language": "python",
   "name": "python3"
  },
  "language_info": {
   "codemirror_mode": {
    "name": "ipython",
    "version": 3
   },
   "file_extension": ".py",
   "mimetype": "text/x-python",
   "name": "python",
   "nbconvert_exporter": "python",
   "pygments_lexer": "ipython3",
   "version": "3.10.11"
  }
 },
 "nbformat": 4,
 "nbformat_minor": 4
}
