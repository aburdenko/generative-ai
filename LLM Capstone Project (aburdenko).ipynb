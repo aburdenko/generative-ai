{
 "cells": [
  {
   "cell_type": "markdown",
   "metadata": {
    "id": "3JHIWNPudBCG"
   },
   "source": [
    "#Install Packages"
   ]
  },
  {
   "cell_type": "code",
   "execution_count": 1,
   "metadata": {
    "colab": {
     "base_uri": "https://localhost:8080/"
    },
    "executionInfo": {
     "elapsed": 17420,
     "status": "ok",
     "timestamp": 1685735319483,
     "user": {
      "displayName": "Alex Burdenko",
      "userId": "04128376985135405510"
     },
     "user_tz": 240
    },
    "id": "DGE5dJtyMMJT",
    "outputId": "ba6992cd-05dc-4d4b-de95-d1bad5064c6c"
   },
   "outputs": [],
   "source": [
    "!unset GOOGLE_APPLICATION_CREDENTIALS\n",
    "import sys\n",
    "if 'google.colab' in sys.modules:\n",
    "  from google.colab import auth\n",
    "  auth.authenticate_user()\n",
    "  print('Authenticated')\n",
    "\n",
    "\n",
    "import google.auth\n",
    "credentials, project = google.auth.default()\n",
    "from google.cloud.bigquery import magics\n",
    "magics.context.credentials = credentials\n"
   ]
  },
  {
   "cell_type": "code",
   "execution_count": 2,
   "metadata": {
    "colab": {
     "base_uri": "https://localhost:8080/"
    },
    "executionInfo": {
     "elapsed": 16453,
     "status": "ok",
     "timestamp": 1685735337032,
     "user": {
      "displayName": "Alex Burdenko",
      "userId": "04128376985135405510"
     },
     "user_tz": 240
    },
    "id": "qlMj_NS8L7dm",
    "outputId": "20dfc512-aa17-4b6b-fe66-270978fb7ee9"
   },
   "outputs": [
    {
     "name": "stdout",
     "output_type": "stream",
     "text": [
      "Vertex AI SDK version: 1.26.1\n",
      "restarting kernel...\n"
     ]
    },
    {
     "data": {
      "text/plain": [
       "{'status': 'ok', 'restart': True}"
      ]
     },
     "execution_count": 2,
     "metadata": {},
     "output_type": "execute_result"
    }
   ],
   "source": [
    "#!gsutil cp gs://vertex_sdk_llm_private_releases/SDK/google_cloud_aiplatform-1.25.dev20230413+language.models-py2.py3-none-any.whl .\n",
    "#!pip install google_cloud_aiplatform-1.25.dev20230413+language.models-py2.py3-none-any.whl \"shapely<2.0.0\" --quiet\n",
    "#upgrade to new endpoints as per request 7/7/2023\n",
    "!pip install google-cloud-aiplatform --upgrade  --quiet\n",
    "\n",
    "from google.cloud import aiplatform\n",
    "print(f\"Vertex AI SDK version: {aiplatform.__version__}\")\n",
    "\n",
    "!pip install smart-open --quiet\n",
    "!pip install kaggle --quiet\n",
    "\n",
    "import IPython\n",
    "print( 'restarting kernel...' )\n",
    "app = IPython.Application.instance()\n",
    "app.kernel.do_shutdown(True)"
   ]
  },
  {
   "cell_type": "code",
   "execution_count": 1,
   "metadata": {
    "id": "EUGZ3jsoPI3f"
   },
   "outputs": [],
   "source": [
    "%reload_ext autoreload\n",
    "%autoreload 2"
   ]
  },
  {
   "cell_type": "code",
   "execution_count": 8,
   "metadata": {
    "colab": {
     "base_uri": "https://localhost:8080/"
    },
    "executionInfo": {
     "elapsed": 3390,
     "status": "ok",
     "timestamp": 1682642242196,
     "user": {
      "displayName": "Alex Burdenko",
      "userId": "04128376985135405510"
     },
     "user_tz": 240
    },
    "id": "080Su_zoay0F",
    "outputId": "07e08fd4-1c12-49ef-db00-ff44424188cc"
   },
   "outputs": [
    {
     "name": "stdout",
     "output_type": "stream",
     "text": [
      "env: IN_COLAB=False\n",
      "env: KAGGLE_DATASET_USERNAME=KAGGLE_DATASET_USERNAME\n",
      "env: KAGGLE_DATASET_NAME=KAGGLE_DATASET_NAME\n",
      "env: BUCKET_NAME=aburdenko-llm-captstone\n",
      "Updated property [core/project].\n"
     ]
    }
   ],
   "source": [
    "PROJECT_ID = \"kallogjeri-project-345114\" # @param {type:\"string\"} <---CHANGE THESE\n",
    "KAGGLE_DATASET_USERNAME = \"chaitanyakck\" # @param {type:\"string\"} <---CHANGE THESE\n",
    "KAGGLE_DATASET_NAME = \"medical-text\" # @param {type:\"string\"} <---CHANGE THESE\n",
    "BUCKET_NAME = \"aburdenko-llm-captstone\" # @param {type:\"string\"} <---CHANGE THESE\n",
    "#GOOGLE_APPLICATION_CREDENTIALS=\"/content/service_account.json\"\n",
    "#%env GOOGLE_APPLICATION_CREDENTIALS=$GOOGLE_APPLICATION_CREDENTIALS\n",
    "\n",
    "WORKSPACE_HOME=\"/content\" # @param {type:\"string\"} <---CHANGE THESE\n",
    "\n",
    "import sys\n",
    "IN_COLAB = 'google.colab' in sys.modules\n",
    "%env IN_COLAB=$IN_COLAB\n",
    "\n",
    "%env KAGGLE_DATASET_USERNAME = KAGGLE_DATASET_USERNAME\n",
    "%env KAGGLE_DATASET_NAME = KAGGLE_DATASET_NAME\n",
    "\n",
    "%env BUCKET_NAME=$BUCKET_NAME\n",
    "!gcloud config set project $PROJECT_ID -q"
   ]
  },
  {
   "cell_type": "markdown",
   "metadata": {
    "id": "vC6LOPvgGXt0"
   },
   "source": [
    "Upload Kaggle .json file"
   ]
  },
  {
   "cell_type": "code",
   "execution_count": 13,
   "metadata": {
    "colab": {
     "base_uri": "https://localhost:8080/"
    },
    "executionInfo": {
     "elapsed": 448,
     "status": "ok",
     "timestamp": 1682642242635,
     "user": {
      "displayName": "Alex Burdenko",
      "userId": "04128376985135405510"
     },
     "user_tz": 240
    },
    "id": "eFRjirpeGXF9",
    "outputId": "38393b82-cb9e-4762-b5f6-b38d32112760"
   },
   "outputs": [
    {
     "name": "stdout",
     "output_type": "stream",
     "text": [
      "{\"username\":\"alexburdenko\",\"key\":\"bdc6f69f4aa714222d8c52fbf1aeca28\"}"
     ]
    }
   ],
   "source": [
    "import sys\n",
    "import os\n",
    "\n",
    "FILE_EXISTS=os.path.exists( '/root/.kaggle/kaggle.json' )\n",
    "if IN_COLAB and not FILE_EXISTS:\n",
    "\n",
    "  !mkdir -p /root/.kaggle\n",
    "\n",
    "  from google.colab import files\n",
    "\n",
    "  uploaded = files.upload()\n",
    "\n",
    "  for fn in uploaded.keys():\n",
    "    txt = \"User uploaded file {name} with length {length} bytes\".format( name=fn, length=len(uploaded[fn]))\n",
    "    print( txt )\n",
    "\n",
    "  import os\n",
    "  os.rename(f\"{fn}\",'/root/.kaggle/kaggle.json')\n",
    "  !chmod 600 /root/.kaggle/kaggle.json\n",
    "\n",
    "  # import json\n",
    "  # token = {\"username\":\"alexburdenko\",\"key\":\"3eb670cc106e7b8cfe41dfeaab51e3a2\"}\n",
    "  # with open('/root/.kaggle/kaggle.json', 'w') as file:\n",
    "  #   json.dump(token, file)\n",
    "\n",
    "\n",
    "!cat $HOME/.kaggle/kaggle.json\n"
   ]
  },
  {
   "cell_type": "markdown",
   "metadata": {
    "id": "MW-tU66kDjp5"
   },
   "source": [
    "#Extract to GCP bucket"
   ]
  },
  {
   "cell_type": "code",
   "execution_count": 14,
   "metadata": {
    "colab": {
     "base_uri": "https://localhost:8080/"
    },
    "executionInfo": {
     "elapsed": 817,
     "status": "ok",
     "timestamp": 1682642243445,
     "user": {
      "displayName": "Alex Burdenko",
      "userId": "04128376985135405510"
     },
     "user_tz": 240
    },
    "id": "avVK12FiT_ru",
    "outputId": "dea439bb-52ab-45cc-8668-30e4115616cd"
   },
   "outputs": [
    {
     "name": "stdout",
     "output_type": "stream",
     "text": [
      "Warning: Your Kaggle API key is readable by other users on this system! To fix this, you can run 'chmod 600 /home/jupyter/.kaggle/kaggle.json'\n",
      "401 - Unauthorized\n"
     ]
    }
   ],
   "source": [
    "!kaggle competitions list"
   ]
  },
  {
   "cell_type": "code",
   "execution_count": 15,
   "metadata": {
    "colab": {
     "base_uri": "https://localhost:8080/"
    },
    "executionInfo": {
     "elapsed": 732,
     "status": "ok",
     "timestamp": 1682642244169,
     "user": {
      "displayName": "Alex Burdenko",
      "userId": "04128376985135405510"
     },
     "user_tz": 240
    },
    "id": "dud_TlMvHyYl",
    "outputId": "a4af01cd-6c54-47e1-f9b7-2e7d61ddfca1"
   },
   "outputs": [
    {
     "name": "stdout",
     "output_type": "stream",
     "text": [
      "401 - Unauthorized\n"
     ]
    }
   ],
   "source": [
    "!kaggle datasets download $KAGGLE_DATASET_USERNAME/$KAGGLE_DATASET_NAME --force"
   ]
  },
  {
   "cell_type": "code",
   "execution_count": 16,
   "metadata": {
    "colab": {
     "base_uri": "https://localhost:8080/"
    },
    "executionInfo": {
     "elapsed": 468,
     "status": "ok",
     "timestamp": 1682642244630,
     "user": {
      "displayName": "Alex Burdenko",
      "userId": "04128376985135405510"
     },
     "user_tz": 240
    },
    "id": "5XDHAYXwUF7f",
    "outputId": "f248a26b-ce38-4aed-e2f0-4e1ffed05f11"
   },
   "outputs": [
    {
     "ename": "FileNotFoundError",
     "evalue": "[Errno 2] No such file or directory: 'medical-text.zip'",
     "output_type": "error",
     "traceback": [
      "\u001b[0;31m---------------------------------------------------------------------------\u001b[0m",
      "\u001b[0;31mFileNotFoundError\u001b[0m                         Traceback (most recent call last)",
      "Cell \u001b[0;32mIn[16], line 10\u001b[0m\n\u001b[1;32m      7\u001b[0m filename \u001b[38;5;241m=\u001b[39m \u001b[38;5;124mf\u001b[39m\u001b[38;5;124m\"\u001b[39m\u001b[38;5;132;01m{\u001b[39;00mKAGGLE_DATASET_NAME\u001b[38;5;132;01m}\u001b[39;00m\u001b[38;5;124m.zip\u001b[39m\u001b[38;5;124m\"\u001b[39m\n\u001b[1;32m      9\u001b[0m \u001b[38;5;28;01mif\u001b[39;00m filename \u001b[38;5;241m!=\u001b[39m \u001b[38;5;124m\"\u001b[39m\u001b[38;5;124m.zip\u001b[39m\u001b[38;5;124m\"\u001b[39m:\n\u001b[0;32m---> 10\u001b[0m   \u001b[38;5;28;01mwith\u001b[39;00m \u001b[38;5;28;43mopen\u001b[39;49m\u001b[43m(\u001b[49m\u001b[43mfilename\u001b[49m\u001b[43m,\u001b[49m\u001b[43m \u001b[49m\u001b[38;5;124;43m\"\u001b[39;49m\u001b[38;5;124;43mrb\u001b[39;49m\u001b[38;5;124;43m\"\u001b[39;49m\u001b[43m)\u001b[49m \u001b[38;5;28;01mas\u001b[39;00m fh:\n\u001b[1;32m     11\u001b[0m       zipbytes \u001b[38;5;241m=\u001b[39m BytesIO(fh\u001b[38;5;241m.\u001b[39mread())\n\u001b[1;32m     13\u001b[0m   \u001b[38;5;28;01mif\u001b[39;00m is_zipfile(zipbytes):\n",
      "File \u001b[0;32m/opt/conda/lib/python3.10/site-packages/IPython/core/interactiveshell.py:284\u001b[0m, in \u001b[0;36m_modified_open\u001b[0;34m(file, *args, **kwargs)\u001b[0m\n\u001b[1;32m    277\u001b[0m \u001b[38;5;28;01mif\u001b[39;00m file \u001b[38;5;129;01min\u001b[39;00m {\u001b[38;5;241m0\u001b[39m, \u001b[38;5;241m1\u001b[39m, \u001b[38;5;241m2\u001b[39m}:\n\u001b[1;32m    278\u001b[0m     \u001b[38;5;28;01mraise\u001b[39;00m \u001b[38;5;167;01mValueError\u001b[39;00m(\n\u001b[1;32m    279\u001b[0m         \u001b[38;5;124mf\u001b[39m\u001b[38;5;124m\"\u001b[39m\u001b[38;5;124mIPython won\u001b[39m\u001b[38;5;124m'\u001b[39m\u001b[38;5;124mt let you open fd=\u001b[39m\u001b[38;5;132;01m{\u001b[39;00mfile\u001b[38;5;132;01m}\u001b[39;00m\u001b[38;5;124m by default \u001b[39m\u001b[38;5;124m\"\u001b[39m\n\u001b[1;32m    280\u001b[0m         \u001b[38;5;124m\"\u001b[39m\u001b[38;5;124mas it is likely to crash IPython. If you know what you are doing, \u001b[39m\u001b[38;5;124m\"\u001b[39m\n\u001b[1;32m    281\u001b[0m         \u001b[38;5;124m\"\u001b[39m\u001b[38;5;124myou can use builtins\u001b[39m\u001b[38;5;124m'\u001b[39m\u001b[38;5;124m open.\u001b[39m\u001b[38;5;124m\"\u001b[39m\n\u001b[1;32m    282\u001b[0m     )\n\u001b[0;32m--> 284\u001b[0m \u001b[38;5;28;01mreturn\u001b[39;00m \u001b[43mio_open\u001b[49m\u001b[43m(\u001b[49m\u001b[43mfile\u001b[49m\u001b[43m,\u001b[49m\u001b[43m \u001b[49m\u001b[38;5;241;43m*\u001b[39;49m\u001b[43margs\u001b[49m\u001b[43m,\u001b[49m\u001b[43m \u001b[49m\u001b[38;5;241;43m*\u001b[39;49m\u001b[38;5;241;43m*\u001b[39;49m\u001b[43mkwargs\u001b[49m\u001b[43m)\u001b[49m\n",
      "\u001b[0;31mFileNotFoundError\u001b[0m: [Errno 2] No such file or directory: 'medical-text.zip'"
     ]
    }
   ],
   "source": [
    "from io import BytesIO\n",
    "from zipfile import ZipFile\n",
    "from zipfile import is_zipfile\n",
    "\n",
    "text : str = \"\"\n",
    "\n",
    "filename = f\"{KAGGLE_DATASET_NAME}.zip\"\n",
    "\n",
    "if filename != \".zip\":\n",
    "  with open(filename, \"rb\") as fh:\n",
    "      zipbytes = BytesIO(fh.read())\n",
    "\n",
    "  if is_zipfile(zipbytes):\n",
    "      with ZipFile(zipbytes, 'r') as myzip:\n",
    "          for contentfilename in myzip.namelist():\n",
    "              text = myzip.read(contentfilename)\n",
    "\n",
    "print( text[:100] )"
   ]
  },
  {
   "cell_type": "markdown",
   "metadata": {
    "id": "fSTXZg2GDvfl"
   },
   "source": [
    "#Hit the Vertex AI PaLM Python API with an extractive Q&A task"
   ]
  },
  {
   "cell_type": "code",
   "execution_count": null,
   "metadata": {
    "colab": {
     "base_uri": "https://localhost:8080/"
    },
    "executionInfo": {
     "elapsed": 13,
     "status": "ok",
     "timestamp": 1682642244632,
     "user": {
      "displayName": "Alex Burdenko",
      "userId": "04128376985135405510"
     },
     "user_tz": 240
    },
    "id": "0tcWHx_nPeUh",
    "outputId": "e3799909-f6a0-4eb5-a69a-44f755a18008"
   },
   "outputs": [
    {
     "name": "stdout",
     "output_type": "stream",
     "text": [
      "b'4\\tCatheterization laboratory events and hospital outcome with direct angioplasty for acute myocardial infarction To assess the safety of direct infarct angioplasty without antecedent thrombolytic therapy, catheterization laboratory and hospital events were assessed in consecutively treated patients with infarctions involving the left anterior descending (n = 100 patients), right (n = 100), and circumflex (n = 50) coronary arteries. The groups of patients were similar for age (left anterior descending coronary artery, 59 years; right coronary artery, 58 years; circumflex coronary artery, 62 years), patients with multivessel disease (left anterior descending coronary artery, 55%; right coronary artery, 55%; circumflex coronary artery, 64%), and patients with initial grade 0/1 antegrade flow (left anterior descending coronary artery, 79%; right coronary artery, 84%; circumflex coronary artery, 90%). Cardiogenic shock was present in eight patients with infarction of the left anterior desce'\n",
      "\n",
      "Q: What is this document about?\n",
      "\n",
      "Q: What was the conclusion of this study?\n",
      "\n",
      "Q: Who was the subject of this study?\n",
      "\n",
      "Q: What hypothesis can you create about this study?\n",
      "\n",
      "Q: How would you test that hypothesis?\n"
     ]
    }
   ],
   "source": [
    "questions = [\n",
    "    \"Q: What is this document about?\",\n",
    "    \"Q: What was the conclusion of this study?\",\n",
    "    \"Q: Who was the subject of this study?\",\n",
    "    \"Q: What hypothesis can you create about this study?\",\n",
    "    \"Q: How would you test that hypothesis?\"\n",
    "]\n",
    "\n",
    "str1 = \"\\n\\n\".join(questions)\n",
    "text2 = (str(text[:1000])) + \"\\n\\n\" + str1\n",
    "print(text2)\n"
   ]
  },
  {
   "cell_type": "code",
   "execution_count": null,
   "metadata": {
    "colab": {
     "base_uri": "https://localhost:8080/"
    },
    "executionInfo": {
     "elapsed": 6683,
     "status": "ok",
     "timestamp": 1682642251305,
     "user": {
      "displayName": "Alex Burdenko",
      "userId": "04128376985135405510"
     },
     "user_tz": 240
    },
    "id": "i7AveOX8Lvf6",
    "outputId": "7106e4d7-1d39-47c0-c07b-8340ee45ef9a"
   },
   "outputs": [
    {
     "name": "stdout",
     "output_type": "stream",
     "text": [
      "Response from Model: \n",
      "1.\n",
      "This document is about a study that assessed the safety of direct infarct angioplasty without antecedent thrombolytic therapy.\n",
      "2.\n",
      "The conclusion of this study was that direct angioplasty is a safe and effective treatment for acute myocardial infarction.\n",
      "3.\n",
      "The subjects of this study were patients with infarctions involving the left anterior descending, right, and circumflex coronary arteries.\n",
      "4.\n",
      "One hypothesis that could be created about this study is that patients who undergo direct angioplasty have a better outcome than patients who do not undergo direct angioplasty.\n",
      "5.\n",
      "One way to test this hypothesis would be to conduct a randomized controlled trial.\n"
     ]
    }
   ],
   "source": [
    "from google.cloud.aiplatform.private_preview.language_models import TextGenerationModel\n",
    "\n",
    "#input = '\\n'.join(queries)\n",
    "#input = text.join(input)\n",
    "#print(input)\n",
    "\n",
    "def extractive_question_answering_example(text, temperature=0 ):\n",
    "    \"\"\"Extractive Question Answering with a Large Language Model.\"\"\"\n",
    "    model = TextGenerationModel.from_pretrained(\"text-bison-001\")\n",
    "    response = model.predict( text,\n",
    "      temperature=temperature,\n",
    "      max_output_tokens=256,\n",
    "      top_k=1,\n",
    "      top_p=0,\n",
    "    )\n",
    "    txt : str = \"\\n\" + str(response.text).replace( \". \", \".\\n\" )\n",
    "    print(f\"Response from Model: {txt}\")\n",
    "\n",
    "extractive_question_answering_example(text2)"
   ]
  },
  {
   "cell_type": "markdown",
   "metadata": {
    "id": "xfsDpcT1gSCe"
   },
   "source": [
    "#Zero-Shot Prompts"
   ]
  },
  {
   "cell_type": "code",
   "execution_count": null,
   "metadata": {
    "colab": {
     "base_uri": "https://localhost:8080/"
    },
    "executionInfo": {
     "elapsed": 4925,
     "status": "ok",
     "timestamp": 1682642256159,
     "user": {
      "displayName": "Alex Burdenko",
      "userId": "04128376985135405510"
     },
     "user_tz": 240
    },
    "id": "iuUvk5odIeb3",
    "outputId": "3813efff-26a8-448b-b6da-89c588ee327c"
   },
   "outputs": [
    {
     "name": "stdout",
     "output_type": "stream",
     "text": [
      "b'4\\tCatheterization laboratory events and hospital outcome with direct angioplasty for acute myocardial infarction To assess the safety of direct infarct angioplasty without antecedent thrombolytic therapy, catheterization laboratory and hospital events were assessed in consecutively treated patients with infarctions involving the left anterior descending (n = 100 patients), right (n = 100), and circumflex (n = 50) coronary arteries. The groups of patients were similar for age (left anterior descending coronary artery, 59 years; right coronary artery, 58 years; circumflex coronary artery, 62 years), patients with multivessel disease (left anterior descending coronary artery, 55%; right coronary artery, 55%; circumflex coronary artery, 64%), and patients with initial grade 0/1 antegrade flow (left anterior descending coronary artery, 79%; right coronary artery, 84%; circumflex coronary artery, 90%). Cardiogenic shock was present in eight patients with infarction of the left anterior desce'\n",
      "\n",
      "Prompt 1: “Tokenize the hashtags of the conversation\n",
      "\n",
      "Prompt 2: “create a bulleted list of UMLS codes that are mentioned in the conversation\n",
      "Response from Model: \n",
      "Here is a list of UMLS codes that are mentioned in the conversation:\n",
      "\n",
      "* **Acute myocardial infarction** (AMI)\n",
      "* **Angioplasty**\n",
      "* **Catheterization laboratory**\n",
      "* **Coronary artery disease**\n",
      "* **Left anterior descending coronary artery**\n",
      "* **Right coronary artery**\n",
      "* **Circumflex coronary artery**\n",
      "* **Multivessel disease**\n",
      "* **Grade 0/1 antegrade flow**\n",
      "* **Cardiogenic shock**\n",
      "\n",
      "Here is a list of hashtags that are mentioned in the conversation:\n",
      "\n",
      "* #AMI\n",
      "* #Angioplasty\n",
      "* #Catheterization laboratory\n",
      "* #Coronary artery disease\n",
      "* #Left anterior descending coronary artery\n",
      "* #Right coronary artery\n",
      "* #Circumflex coronary artery\n",
      "* #Multivessel disease\n",
      "* #Grade 0/1 antegrade flow\n",
      "* #Cardiogenic shock\n"
     ]
    }
   ],
   "source": [
    "prompts = [\n",
    "    \"Prompt 1: “Tokenize the hashtags of the conversation\",\n",
    "    \"Prompt 2: “create a bulleted list of UMLS codes that are mentioned in the conversation\",\n",
    "]\n",
    "\n",
    "str1 = \"\\n\\n\".join(prompts)\n",
    "text2 = (str(text[:1000])) + \"\\n\\n\" + str1\n",
    "print(text2)\n",
    "\n",
    "extractive_question_answering_example(text2)"
   ]
  },
  {
   "cell_type": "markdown",
   "metadata": {
    "id": "caeLvErdLGrN"
   },
   "source": [
    "#Few-shot prompts"
   ]
  },
  {
   "cell_type": "code",
   "execution_count": null,
   "metadata": {
    "colab": {
     "base_uri": "https://localhost:8080/"
    },
    "executionInfo": {
     "elapsed": 2498,
     "status": "ok",
     "timestamp": 1682642258621,
     "user": {
      "displayName": "Alex Burdenko",
      "userId": "04128376985135405510"
     },
     "user_tz": 240
    },
    "id": "vTa6TLkeLIoU",
    "outputId": "239bd429-0543-4720-9a25-7033c36887ec"
   },
   "outputs": [
    {
     "name": "stdout",
     "output_type": "stream",
     "text": [
      "b'4\\tCatheterization laboratory events and hospital outcome with direct angioplasty for acute myocardial infarction To assess the safety of direct infarct angioplasty without antecedent thrombolytic therapy, catheterization laboratory and hospital events were assessed in consecutively treated patients with infarctions involving the left anterior descending (n = 100 patients), right (n = 100), and circumflex (n = 50) coronary arteries. The groups of patients were similar for age (left anterior descending coronary artery, 59 years; right coronary artery, 58 years; circumflex coronary artery, 62 years), patients with multivessel disease (left anterior descending coronary artery, 55%; right coronary artery, 55%; circumflex coronary artery, 64%), and patients with initial grade 0/1 antegrade flow (left anterior descending coronary artery, 79%; right coronary artery, 84%; circumflex coronary artery, 90%). Cardiogenic shock was present in eight patients with infarction of the left anterior desce'\n",
      "\n",
      "Prompt 1: “Decide whether the text's sentiment is positive, neutral, or negative.\n",
      "\n",
      "Prompt 2: “myocardial infarction is negative.\n",
      "\n",
      "Prompt 2: “sentiment:\n",
      "Response from Model: \n",
      "negative negative\n"
     ]
    }
   ],
   "source": [
    "prompts = [\n",
    "    \"Prompt 1: “Decide whether the text's sentiment is positive, neutral, or negative.\",\n",
    "    \"Prompt 2: “myocardial infarction is negative.\",\n",
    "    \"Prompt 2: “sentiment:\",\n",
    "]\n",
    "\n",
    "str1 = \"\\n\\n\".join(prompts)\n",
    "text2 = (str(text[:1000])) + \"\\n\\n\" + str1\n",
    "print(text2)\n",
    "\n",
    "extractive_question_answering_example(text2)"
   ]
  }
 ],
 "metadata": {
  "colab": {
   "provenance": [
    {
     "file_id": "19vF-Gy36pSI0EvzlTtBXRGKT_rAKqCrS",
     "timestamp": 1681847939499
    },
    {
     "file_id": "https://github.com/aburdenko/gcp-jupyter-notebooks/blob/main/ml-apis/Docai_NLP_BQ.ipynb",
     "timestamp": 1666365014735
    },
    {
     "file_id": "1_A5jh-1Te8ouC5TYmGb_lQ5T5cU8BG5k",
     "timestamp": 1663023158943
    },
    {
     "file_id": "https://github.com/aburdenko/nlp_demo/blob/main/notebooks/nlp_demo.ipynb",
     "timestamp": 1659455970725
    }
   ]
  },
  "environment": {
   "kernel": "python3",
   "name": "common-cpu.m109",
   "type": "gcloud",
   "uri": "gcr.io/deeplearning-platform-release/base-cpu:m109"
  },
  "interpreter": {
   "hash": "42274a0ef9a3a8c8323d8c1a12a6eaebfc4b2f1c75138184df8e573c9d705262"
  },
  "kernelspec": {
   "display_name": "Python 3",
   "language": "python",
   "name": "python3"
  },
  "language_info": {
   "codemirror_mode": {
    "name": "ipython",
    "version": 3
   },
   "file_extension": ".py",
   "mimetype": "text/x-python",
   "name": "python",
   "nbconvert_exporter": "python",
   "pygments_lexer": "ipython3",
   "version": "3.10.11"
  },
  "vscode": {
   "interpreter": {
    "hash": "31f2aee4e71d21fbe5cf8b01ff0e069b9275f58929596ceb00d14d90e3e16cd6"
   }
  }
 },
 "nbformat": 4,
 "nbformat_minor": 4
}
